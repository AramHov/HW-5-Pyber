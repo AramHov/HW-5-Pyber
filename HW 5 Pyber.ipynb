{
 "cells": [
  {
   "cell_type": "code",
   "execution_count": null,
   "metadata": {
    "collapsed": true
   },
   "outputs": [],
   "source": [
    "# Dependencies\n",
    "import matplotlib.pyplot as plt\n",
    "import numpy as np\n",
    "import pandas as pd"
   ]
  },
  {
   "cell_type": "code",
   "execution_count": null,
   "metadata": {},
   "outputs": [],
   "source": [
    "file1 = \"city_data.csv\"\n",
    "file2 = \"ride_data.csv\"\n",
    "rawcity_df = pd.read_csv(file1)\n",
    "rawcity_df.head()"
   ]
  },
  {
   "cell_type": "code",
   "execution_count": null,
   "metadata": {},
   "outputs": [],
   "source": [
    "rawride_df = pd.read_csv(file2)\n",
    "rawride_df.head()"
   ]
  },
  {
   "cell_type": "code",
   "execution_count": null,
   "metadata": {},
   "outputs": [],
   "source": [
    "rawcomb_df = pd.merge(rawcity_df, rawride_df, on =[\"city\"])\n",
    "rawcomb_df.head()"
   ]
  },
  {
   "cell_type": "code",
   "execution_count": null,
   "metadata": {},
   "outputs": [],
   "source": [
    "grouped = rawcomb_df.groupby(\"city\")\n",
    "grouped.count().head()\n"
   ]
  },
  {
   "cell_type": "code",
   "execution_count": null,
   "metadata": {},
   "outputs": [],
   "source": [
    "\n",
    "# Bubble Plot Calculation\n",
    "AverageFare = grouped[\"fare\"].mean()\n",
    "TotalRides = grouped[\"ride_id\"].count()\n",
    "drivercount = grouped[\"driver_count\"].sum()\n",
    "#this operator // divides to the closest round number\n",
    "TotalDriver = (drivercount // TotalRides)\n",
    "\n",
    "Types = rawcity_df.groupby(\"type\")\n",
    "\n",
    "Scatt = pd.DataFrame({\"AverageFare\": AverageFare,\n",
    "                        \"TotalRides\": TotalRides,\n",
    "                        \"TotalDrivers\": TotalDriver})\n",
    "\n",
    "Scatt[\"AverageFare\"] = Scatt[\"AverageFare\"].round(2)\n",
    "Scatt.head()"
   ]
  },
  {
   "cell_type": "code",
   "execution_count": null,
   "metadata": {
    "collapsed": true
   },
   "outputs": [],
   "source": [
    "# Makes a new dataframe based on Type\n",
    "Urban = rawcomb_df.loc[rawcomb_df[\"type\"] == \"Urban\", :]\n",
    "Sub = rawcomb_df.loc[rawcomb_df[\"type\"] == \"Suburban\", :]\n",
    "Rural = rawcomb_df.loc[rawcomb_df[\"type\"] == \"Rural\"]\n",
    "\n",
    "# Groups new dataframe by city name\n",
    "GUrban = Urban.groupby(\"city\")\n",
    "GSub = Sub.groupby(\"city\")\n",
    "GRural = Rural.groupby(\"city\")\n",
    "\n",
    "# Bubble Calculation\n",
    "AverageFare = grouped[\"fare\"].mean()\n",
    "TotalRides = grouped[\"ride_id\"].count()\n",
    "drivercount = grouped[\"driver_count\"].sum()\n",
    "TotalDriver = (drivercount // TotalRides)\n",
    "\n",
    "# Urban Data Manipulation\n",
    "UFare = GUrban[\"fare\"].mean()\n",
    "URides = GUrban[\"ride_id\"].count()\n",
    "Ucount = GUrban[\"driver_count\"].sum()\n",
    "UDriver = (Ucount // URides)\n",
    "\n",
    "# Suburban Data Manipulation\n",
    "SFare = GSub[\"fare\"].mean()\n",
    "SRides = GSub[\"ride_id\"].count()\n",
    "Scount = GSub[\"driver_count\"].sum()\n",
    "SDriver = (Scount // SRides)\n",
    "\n",
    "# Rural Data Manipulation\n",
    "RFare = GRural[\"fare\"].mean()\n",
    "RRides = GRural[\"ride_id\"].count()\n",
    "Rcount = GRural[\"driver_count\"].sum()\n",
    "RDriver = (Rcount // RRides)"
   ]
  },
  {
   "cell_type": "code",
   "execution_count": null,
   "metadata": {
    "collapsed": true
   },
   "outputs": [],
   "source": [
    "# Make new DFs for plotting\n",
    "FUrban = pd.DataFrame({\"AverageFare\": UFare,\n",
    "                       \"TotalRides\": URides,\n",
    "                       \"TotalDrivers\": UDriver})\n",
    "FUrban[\"AverageFare\"] = FUrban[\"AverageFare\"].round(2)\n",
    "\n",
    "FSub = pd.DataFrame({\"AverageFare\": SFare,\n",
    "                     \"TotalRides\": SRides,\n",
    "                     \"TotalDrivers\": SDriver})\n",
    "FSub[\"AverageFare\"] = FSub[\"AverageFare\"].round(2)\n",
    "\n",
    "FRural = pd.DataFrame({\"AverageFare\": RFare,\n",
    "                       \"TotalRides\": RRides,\n",
    "                       \"TotalDrivers\": RDriver})\n",
    "FRural[\"AverageFare\"] = FRural[\"AverageFare\"].round(2)"
   ]
  },
  {
   "cell_type": "code",
   "execution_count": null,
   "metadata": {},
   "outputs": [],
   "source": [
    "# Bubble Plot\n",
    "ChangeBubbleSize = 12\n",
    "CBS = ChangeBubbleSize\n",
    "plt.figure(figsize=(8,7))\n",
    "BubUr = plt.scatter(FUrban.TotalRides, FUrban.AverageFare, c=\"lightskyblue\", label = \"Urban\", \n",
    "                    s=(FUrban.TotalDrivers * CBS), alpha = 0.6, edgecolor = \"black\", linewidths = .6)\n",
    "\n",
    "# Bubble Plot\n",
    "BubSu = plt.scatter(FSub.TotalRides, FSub.AverageFare, c=\"gold\", label = \"Suburban\", \n",
    "                    s=(FSub.TotalDrivers * CBS), alpha = 0.6, edgecolor = \"black\", linewidths = .9)\n",
    "\n",
    "# Bubble Plot\n",
    "BubRu = plt.scatter(FRural.TotalRides, FRural.AverageFare, c=\"lightcoral\", label = \"Rural\", \n",
    "                    s=(FRural.TotalDrivers * CBS), alpha = 0.65, edgecolor = \"black\", linewidths = 1)\n",
    "\n",
    "lgnd = plt.legend(handles=[BubUr, BubSu, BubRu], scatterpoints=1, fontsize=16)\n",
    "lgnd.legendHandles[0]._sizes = [150]\n",
    "lgnd.legendHandles[1]._sizes = [150]\n",
    "lgnd.legendHandles[2]._sizes = [150]\n",
    "plt.title(\"Pyber Ride Sharing Data\")\n",
    "plt.xlabel(\"Total Number of Rides (Per City)\")\n",
    "plt.ylabel(\"Average Fare ($)\")\n",
    "\n",
    "\n",
    "\n",
    "plt.show()"
   ]
  },
  {
   "cell_type": "code",
   "execution_count": null,
   "metadata": {},
   "outputs": [],
   "source": [
    "# Pie Charts Data\n",
    "TypeGrouped = rawcomb_df.groupby(\"type\")\n",
    "TypeGrouped_Raw = rawcity_df.groupby(\"type\")\n",
    "\n",
    "# Pice Chart #1\n",
    "FareTotal = rawcomb_df[\"fare\"].sum()\n",
    "GroupedFare = TypeGrouped[\"fare\"].sum()\n",
    "\n",
    "GFTotal = GroupedFare / FareTotal\n",
    "\n",
    "# Pie Chart #2\n",
    "RideTotal = rawcomb_df[\"ride_id\"].count()\n",
    "GroupedRide = TypeGrouped[\"ride_id\"].count()\n",
    "\n",
    "GRTotal = GroupedRide / RideTotal\n",
    "\n",
    "# Pie Chart #3\n",
    "DriverTotal = rawcity_df[\"driver_count\"].sum()\n",
    "GroupedDriver = TypeGrouped_Raw[\"driver_count\"].sum()\n",
    "\n",
    "GDTotal = GroupedDriver / DriverTotal\n",
    "\n",
    "print(GFTotal)\n",
    "print(GRTotal)\n",
    "print(GDTotal)"
   ]
  },
  {
   "cell_type": "code",
   "execution_count": null,
   "metadata": {},
   "outputs": [],
   "source": [
    "\n",
    "# Pie Chart #1: Total Fare\n",
    "explode = (0, 0, 0.15)\n",
    "labels = GFTotal.index.tolist()\n",
    "colors = [\"lightcoral\", \"gold\", \"lightskyblue\"]\n",
    "plt.figure(figsize=(6,6))\n",
    "plt.rcParams['font.size'] = 13.0\n",
    "plt.pie(GFTotal, labels = labels, explode = explode, colors = colors, startangle = 265, shadow = True, autopct=\"%1.2f%%\")\n",
    "plt.axis(\"equal\")\n",
    "plt.title(\"Percentage of Total Fare by City Type\")\n",
    "plt.xlabel(\"City Types\")\n",
    "plt.ylabel(\"Percentage of Fares\")\n",
    "\n",
    "plt.show()"
   ]
  },
  {
   "cell_type": "code",
   "execution_count": null,
   "metadata": {},
   "outputs": [],
   "source": [
    "# Pie Chart #2: Total Rides\n",
    "explode = (0, 0, 0.15)\n",
    "labels = GRTotal.index.tolist()\n",
    "colors = [\"lightcoral\", \"gold\", \"lightskyblue\"]\n",
    "plt.figure(figsize=(6,6))\n",
    "plt.rcParams['font.size'] = 13.0\n",
    "plt.pie(GRTotal, labels = labels, explode = explode, colors = colors, startangle = 275, shadow = True, autopct=\"%1.2f%%\")\n",
    "plt.axis(\"equal\")\n",
    "plt.title(\"Percentage of Total Rides by City Type\")\n",
    "plt.xlabel(\"City Types\")\n",
    "plt.ylabel(\"Percentage of Rides\")\n",
    "\n",
    "plt.show()"
   ]
  },
  {
   "cell_type": "code",
   "execution_count": null,
   "metadata": {},
   "outputs": [],
   "source": [
    "# Pie Chart #3: Total Drivers\n",
    "explode = (0, 0, 0.15)\n",
    "labels = GDTotal.index.tolist()\n",
    "colors = [\"lightcoral\", \"gold\", \"lightskyblue\"]\n",
    "plt.figure(figsize=(6,6))\n",
    "plt.rcParams['font.size'] = 13.0\n",
    "plt.pie(GDTotal, labels = labels, explode = explode, colors = colors, startangle = 275, shadow = True, autopct=\"%1.2f%%\", labeldistance=1.07)\n",
    "plt.axis(\"equal\")\n",
    "plt.title(\"Percentage of Total Drivers by City Type\")\n",
    "plt.xlabel(\"City Types\")\n",
    "plt.ylabel(\"Percentage of Drivers\")\n",
    "\n",
    "plt.show()"
   ]
  },
  {
   "cell_type": "code",
   "execution_count": null,
   "metadata": {
    "collapsed": true
   },
   "outputs": [],
   "source": []
  }
 ],
 "metadata": {
  "kernelspec": {
   "display_name": "Python 3",
   "language": "python",
   "name": "python3"
  },
  "language_info": {
   "codemirror_mode": {
    "name": "ipython",
    "version": 3
   },
   "file_extension": ".py",
   "mimetype": "text/x-python",
   "name": "python",
   "nbconvert_exporter": "python",
   "pygments_lexer": "ipython3",
   "version": "3.6.3"
  }
 },
 "nbformat": 4,
 "nbformat_minor": 2
}
